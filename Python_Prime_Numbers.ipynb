{
  "nbformat": 4,
  "nbformat_minor": 0,
  "metadata": {
    "colab": {
      "provenance": [],
      "authorship_tag": "ABX9TyMOzDykv42Se8ABH+AhHmSw",
      "include_colab_link": true
    },
    "kernelspec": {
      "name": "python3",
      "display_name": "Python 3"
    },
    "language_info": {
      "name": "python"
    }
  },
  "cells": [
    {
      "cell_type": "markdown",
      "metadata": {
        "id": "view-in-github",
        "colab_type": "text"
      },
      "source": [
        "<a href=\"https://colab.research.google.com/github/AphiweNom213/AphiweNom213/blob/main/Python_Prime_Numbers.ipynb\" target=\"_parent\"><img src=\"https://colab.research.google.com/assets/colab-badge.svg\" alt=\"Open In Colab\"/></a>"
      ]
    },
    {
      "cell_type": "code",
      "execution_count": 38,
      "metadata": {
        "colab": {
          "base_uri": "https://localhost:8080/"
        },
        "id": "_5DNQdDrrDDF",
        "outputId": "d6735855-148c-4ce1-9918-cab74a31f1cc"
      },
      "outputs": [
        {
          "output_type": "stream",
          "name": "stdout",
          "text": [
            "True\n",
            "the amount of prime numbers is 11\n"
          ]
        }
      ],
      "source": [
        "def is_prime(n):\n",
        "  if n > 1 :\n",
        "    for i in range(2,int(n/2)+1):\n",
        "      if (n % i == 0):\n",
        "        return False\n",
        "        break\n",
        "    else:\n",
        "      return True\n",
        "  else:\n",
        "    return False\n",
        "\n",
        "print (is_prime(313))\n",
        "\n",
        "def count_prime(n,m):\n",
        "  count = 0\n",
        "  for i in range (n,m+1):\n",
        "    if is_prime(i):\n",
        "      count += 1\n",
        "  return count\n",
        "\n",
        "print (\"the amount of prime numbers is \" + str(count_prime(100,151)))"
      ]
    }
  ]
}