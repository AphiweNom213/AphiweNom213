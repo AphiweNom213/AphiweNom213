{
  "nbformat": 4,
  "nbformat_minor": 0,
  "metadata": {
    "colab": {
      "provenance": [],
      "authorship_tag": "ABX9TyOnV+1Zw8ldjNUAo2y6HulT",
      "include_colab_link": true
    },
    "kernelspec": {
      "name": "python3",
      "display_name": "Python 3"
    },
    "language_info": {
      "name": "python"
    }
  },
  "cells": [
    {
      "cell_type": "markdown",
      "metadata": {
        "id": "view-in-github",
        "colab_type": "text"
      },
      "source": [
        "<a href=\"https://colab.research.google.com/github/AphiweNom213/AphiweNom213/blob/main/Web_Scraper_2.ipynb\" target=\"_parent\"><img src=\"https://colab.research.google.com/assets/colab-badge.svg\" alt=\"Open In Colab\"/></a>"
      ]
    },
    {
      "cell_type": "code",
      "execution_count": 5,
      "metadata": {
        "colab": {
          "base_uri": "https://localhost:8080/"
        },
        "id": "DrG9dp4ikDl9",
        "outputId": "7775504d-26a5-43a8-9f3a-aa4eaba7fbeb"
      },
      "outputs": [
        {
          "output_type": "stream",
          "name": "stdout",
          "text": [
            "15 general interview questions for Data Analyst\n",
            "5 sample answers to general interview questions for Data Analyst\n",
            "15 behavioral interview questions for  Data Analyst\n",
            "5 sample answers to behavioral interview questions for the  Data Analyst\n",
            "15 personality interview questions for the  Data Analyst\n",
            "5 sample answers to personality interview questions for the  Data Analyst\n",
            "When should you use skill assessments in your hiring process for  Data Analyst?\n",
            "Use our interview questions and skill tests to hire talented Data Analyst\n",
            "15 general interview questions for Data Analyst\n",
            "5 sample answers to general interview questions for Data Analyst\n",
            "15 behavioral interview questions for  Data Analyst\n",
            "5 sample answers to behavioral interview questions for the  Data Analyst\n",
            "15 personality interview questions for the  Data Analyst\n",
            "5 sample answers to personality interview questions for the  Data Analyst\n",
            "When should you use skill assessments in your hiring process for  Data Analyst?\n",
            "Use our interview questions and skill tests to hire talented Data Analyst\n"
          ]
        }
      ],
      "source": [
        "import requests\n",
        "from bs4 import BeautifulSoup\n",
        "\n",
        "def blogScraper():\n",
        "\n",
        "  scraping = requests.get(\"https://testlify.com/data-analyst-interview-questions-to-ask-job-applicants/\")\n",
        "  soup = BeautifulSoup(scraping.content, \"html.parser\")\n",
        "  elements = soup.find_all('a', attrs = {'class':\"kb-table-of-contents__entry\"})\n",
        "\n",
        "  for element in elements:\n",
        "     text = element.text\n",
        "     print(text)\n",
        "\n",
        "blogScraper()"
      ]
    }
  ]
}